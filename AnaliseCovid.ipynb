{
  "nbformat": 4,
  "nbformat_minor": 0,
  "metadata": {
    "colab": {
      "name": "AnaliseCovid.ipynb",
      "provenance": [],
      "include_colab_link": true
    },
    "kernelspec": {
      "name": "python3",
      "display_name": "Python 3"
    },
    "language_info": {
      "name": "python"
    }
  },
  "cells": [
    {
      "cell_type": "markdown",
      "metadata": {
        "id": "view-in-github",
        "colab_type": "text"
      },
      "source": [
        "<a href=\"https://colab.research.google.com/github/jamescp/python/blob/main/AnaliseCovid.ipynb\" target=\"_parent\"><img src=\"https://colab.research.google.com/assets/colab-badge.svg\" alt=\"Open In Colab\"/></a>"
      ]
    },
    {
      "cell_type": "markdown",
      "source": [
        "## **Análise dos dados da pandemia de Covid-19 no Maranhão durante os anos de 2020 a 2022.**"
      ],
      "metadata": {
        "id": "19IS9P8eJ-VC"
      }
    },
    {
      "cell_type": "markdown",
      "source": [
        "\n",
        "\n",
        "No Brasil no início da pandemia, os casos se concentraram nas capitais, seguindo-se o processo de interiorização, com aumento de novos casos em cidades de menor porte populacional (Silva; Jardim; Santos, 2020). \n"
      ],
      "metadata": {
        "id": "p5WmIgZSK6Zz"
      }
    },
    {
      "cell_type": "code",
      "execution_count": null,
      "metadata": {
        "id": "e9tb9VRAJqFw"
      },
      "outputs": [],
      "source": [
        "import numpy as np\n",
        "import pandas as pd\n",
        "\n",
        "#Extração e Carregamento dos dados\n",
        "df = pd.read_csv(\"https://raw.githubusercontent.com/wcota/covid19br/master/cases-brazil-states.csv\")\n"
      ]
    },
    {
      "cell_type": "code",
      "source": [
        "#Transformação dos Dados:\n",
        "#Seleciona somente o estado do Maranhão\n",
        "df_MA= df[df.state == \"MA\"]"
      ],
      "metadata": {
        "id": "cIkz5C4mEMaM"
      },
      "execution_count": null,
      "outputs": []
    },
    {
      "cell_type": "markdown",
      "source": [
        "Casos e Óbitos atualizados diariamente."
      ],
      "metadata": {
        "id": "MViFlFPcFH5b"
      }
    },
    {
      "cell_type": "code",
      "source": [
        "#Soma todos os Casos e Óbitos desde o início da pandemia\n",
        "Casos = df_MA['newDeaths'].sum()"
      ],
      "metadata": {
        "id": "rz1bFPRHEqHz"
      },
      "execution_count": null,
      "outputs": []
    },
    {
      "cell_type": "markdown",
      "source": [
        ""
      ],
      "metadata": {
        "id": "HcuhrnhGJ9Sy"
      }
    }
  ]
}