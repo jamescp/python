{
  "nbformat": 4,
  "nbformat_minor": 0,
  "metadata": {
    "colab": {
      "name": "AnaliseCovid.ipynb",
      "provenance": [],
      "include_colab_link": true
    },
    "kernelspec": {
      "name": "python3",
      "display_name": "Python 3"
    },
    "language_info": {
      "name": "python"
    }
  },
  "cells": [
    {
      "cell_type": "markdown",
      "metadata": {
        "id": "view-in-github",
        "colab_type": "text"
      },
      "source": [
        "<a href=\"https://colab.research.google.com/github/jamescp/python/blob/main/AnaliseCovid.ipynb\" target=\"_parent\"><img src=\"https://colab.research.google.com/assets/colab-badge.svg\" alt=\"Open In Colab\"/></a>"
      ]
    },
    {
      "cell_type": "markdown",
      "source": [
        "## **Análise dos dados da pandemia de Covid-19 no Maranhão durante os anos de 2020 a 2022.**"
      ],
      "metadata": {
        "id": "19IS9P8eJ-VC"
      }
    },
    {
      "cell_type": "markdown",
      "source": [
        "Autor: Jamesson Amaral Gomes\n",
        "> email: jamesson.agomes@gmail.com\n"
      ],
      "metadata": {
        "id": "p5WmIgZSK6Zz"
      }
    },
    {
      "cell_type": "code",
      "execution_count": 116,
      "metadata": {
        "id": "e9tb9VRAJqFw"
      },
      "outputs": [],
      "source": [
        "import numpy as np\n",
        "import pandas as pd\n",
        "import seaborn as sns\n",
        "import datetime as dt\n",
        "import matplotlib.pyplot as plt # plotting data\n"
      ]
    },
    {
      "cell_type": "code",
      "source": [
        "df = pd.read_csv(\"https://raw.githubusercontent.com/wcota/covid19br/master/cases-brazil-states.csv\")"
      ],
      "metadata": {
        "id": "un9C6KQrJOwd"
      },
      "execution_count": null,
      "outputs": []
    },
    {
      "cell_type": "code",
      "source": [
        "#Transformação dos Dados:\n",
        "df['date'] = pd.to_datetime(df['date'])\n",
        "\n",
        "#Seleciona somente o estado do Maranhão\n",
        "df_MA = df[df.state == \"MA\"]\n",
        "df_MA.columns"
      ],
      "metadata": {
        "colab": {
          "base_uri": "https://localhost:8080/"
        },
        "id": "cIkz5C4mEMaM",
        "outputId": "938c690a-5c53-4f5b-872e-fbf39f9dc124"
      },
      "execution_count": 23,
      "outputs": [
        {
          "output_type": "execute_result",
          "data": {
            "text/plain": [
              "Index(['epi_week', 'date', 'country', 'state', 'city', 'newDeaths', 'deaths',\n",
              "       'newCases', 'totalCases', 'deathsMS', 'totalCasesMS',\n",
              "       'deaths_per_100k_inhabitants', 'totalCases_per_100k_inhabitants',\n",
              "       'deaths_by_totalCases', 'recovered', 'suspects', 'tests',\n",
              "       'tests_per_100k_inhabitants', 'vaccinated',\n",
              "       'vaccinated_per_100_inhabitants', 'vaccinated_second',\n",
              "       'vaccinated_second_per_100_inhabitants', 'vaccinated_single',\n",
              "       'vaccinated_single_per_100_inhabitants', 'vaccinated_third',\n",
              "       'vaccinated_third_per_100_inhabitants'],\n",
              "      dtype='object')"
            ]
          },
          "metadata": {},
          "execution_count": 23
        }
      ]
    },
    {
      "cell_type": "markdown",
      "source": [
        "Casos e Óbitos atualizados do Maranhão."
      ],
      "metadata": {
        "id": "MViFlFPcFH5b"
      }
    },
    {
      "cell_type": "code",
      "source": [
        "#Visualização inicial dos dados \n"
      ],
      "metadata": {
        "id": "GWOeI_2JI4A1"
      },
      "execution_count": 117,
      "outputs": []
    },
    {
      "cell_type": "code",
      "source": [
        "#Imprime os Casos e Óbitos acumulados desde o início da pandemia no Maranhão\n",
        "#strftime(\"%d %b, %Y\")\n",
        "print(\"DATA:\",dt.date.today())\n",
        "print('CASOS MA:', df_MA['newCases'].sum(),'\\nÓBITOS MA:',df_MA['newDeaths'].sum())\n"
      ],
      "metadata": {
        "colab": {
          "base_uri": "https://localhost:8080/"
        },
        "id": "rz1bFPRHEqHz",
        "outputId": "be48f9f1-a851-4d78-962b-c7e141d02838"
      },
      "execution_count": 197,
      "outputs": [
        {
          "output_type": "stream",
          "name": "stdout",
          "text": [
            "DATA: 2022-07-15\n",
            "CASOS MA: 450515 \n",
            "ÓBITOS MA: 10913\n"
          ]
        }
      ]
    },
    {
      "cell_type": "code",
      "source": [
        "#ano=df_MA['date'].dt.date.year()\n"
      ],
      "metadata": {
        "id": "FeJ6tK1gvrS8"
      },
      "execution_count": 146,
      "outputs": []
    },
    {
      "cell_type": "code",
      "source": [
        "CasosMes = pd.DataFrame(df_MA.groupby(df_MA['date'].dt.strftime('%b/%Y'))['newCases'].sum().sort_values(ascending=True))\n",
        "\n",
        "\n"
      ],
      "metadata": {
        "id": "oHk-AUh2P-Jk"
      },
      "execution_count": 185,
      "outputs": []
    },
    {
      "cell_type": "code",
      "source": [
        "(df_MA.groupby(df_MA['date'].dt.strftime('%Y'))\n",
        "                .agg(\n",
        "                    casos = (\"newCases\", \"sum\"),\n",
        "                    dias = (\"newCases\", \"count\"),\n",
        "                    num_days=pd.NamedAgg(\n",
        "                    column=\"date\", \n",
        "                    aggfunc=lambda x: (max(x) - min(x)).days) \n",
        "))\n",
        "\n"
      ],
      "metadata": {
        "colab": {
          "base_uri": "https://localhost:8080/",
          "height": 175
        },
        "id": "S8e1ZyrBb6e4",
        "outputId": "f81c8d49-2bf9-41a1-8933-5160f68df363"
      },
      "execution_count": 184,
      "outputs": [
        {
          "output_type": "execute_result",
          "data": {
            "text/plain": [
              "       casos  dias  num_days\n",
              "date                        \n",
              "2020  200938   287       286\n",
              "2021  169707   365       364\n",
              "2022   79870   195       194"
            ],
            "text/html": [
              "\n",
              "  <div id=\"df-9b45e0d6-a02d-45f7-a66e-03d2276cb25b\">\n",
              "    <div class=\"colab-df-container\">\n",
              "      <div>\n",
              "<style scoped>\n",
              "    .dataframe tbody tr th:only-of-type {\n",
              "        vertical-align: middle;\n",
              "    }\n",
              "\n",
              "    .dataframe tbody tr th {\n",
              "        vertical-align: top;\n",
              "    }\n",
              "\n",
              "    .dataframe thead th {\n",
              "        text-align: right;\n",
              "    }\n",
              "</style>\n",
              "<table border=\"1\" class=\"dataframe\">\n",
              "  <thead>\n",
              "    <tr style=\"text-align: right;\">\n",
              "      <th></th>\n",
              "      <th>casos</th>\n",
              "      <th>dias</th>\n",
              "      <th>num_days</th>\n",
              "    </tr>\n",
              "    <tr>\n",
              "      <th>date</th>\n",
              "      <th></th>\n",
              "      <th></th>\n",
              "      <th></th>\n",
              "    </tr>\n",
              "  </thead>\n",
              "  <tbody>\n",
              "    <tr>\n",
              "      <th>2020</th>\n",
              "      <td>200938</td>\n",
              "      <td>287</td>\n",
              "      <td>286</td>\n",
              "    </tr>\n",
              "    <tr>\n",
              "      <th>2021</th>\n",
              "      <td>169707</td>\n",
              "      <td>365</td>\n",
              "      <td>364</td>\n",
              "    </tr>\n",
              "    <tr>\n",
              "      <th>2022</th>\n",
              "      <td>79870</td>\n",
              "      <td>195</td>\n",
              "      <td>194</td>\n",
              "    </tr>\n",
              "  </tbody>\n",
              "</table>\n",
              "</div>\n",
              "      <button class=\"colab-df-convert\" onclick=\"convertToInteractive('df-9b45e0d6-a02d-45f7-a66e-03d2276cb25b')\"\n",
              "              title=\"Convert this dataframe to an interactive table.\"\n",
              "              style=\"display:none;\">\n",
              "        \n",
              "  <svg xmlns=\"http://www.w3.org/2000/svg\" height=\"24px\"viewBox=\"0 0 24 24\"\n",
              "       width=\"24px\">\n",
              "    <path d=\"M0 0h24v24H0V0z\" fill=\"none\"/>\n",
              "    <path d=\"M18.56 5.44l.94 2.06.94-2.06 2.06-.94-2.06-.94-.94-2.06-.94 2.06-2.06.94zm-11 1L8.5 8.5l.94-2.06 2.06-.94-2.06-.94L8.5 2.5l-.94 2.06-2.06.94zm10 10l.94 2.06.94-2.06 2.06-.94-2.06-.94-.94-2.06-.94 2.06-2.06.94z\"/><path d=\"M17.41 7.96l-1.37-1.37c-.4-.4-.92-.59-1.43-.59-.52 0-1.04.2-1.43.59L10.3 9.45l-7.72 7.72c-.78.78-.78 2.05 0 2.83L4 21.41c.39.39.9.59 1.41.59.51 0 1.02-.2 1.41-.59l7.78-7.78 2.81-2.81c.8-.78.8-2.07 0-2.86zM5.41 20L4 18.59l7.72-7.72 1.47 1.35L5.41 20z\"/>\n",
              "  </svg>\n",
              "      </button>\n",
              "      \n",
              "  <style>\n",
              "    .colab-df-container {\n",
              "      display:flex;\n",
              "      flex-wrap:wrap;\n",
              "      gap: 12px;\n",
              "    }\n",
              "\n",
              "    .colab-df-convert {\n",
              "      background-color: #E8F0FE;\n",
              "      border: none;\n",
              "      border-radius: 50%;\n",
              "      cursor: pointer;\n",
              "      display: none;\n",
              "      fill: #1967D2;\n",
              "      height: 32px;\n",
              "      padding: 0 0 0 0;\n",
              "      width: 32px;\n",
              "    }\n",
              "\n",
              "    .colab-df-convert:hover {\n",
              "      background-color: #E2EBFA;\n",
              "      box-shadow: 0px 1px 2px rgba(60, 64, 67, 0.3), 0px 1px 3px 1px rgba(60, 64, 67, 0.15);\n",
              "      fill: #174EA6;\n",
              "    }\n",
              "\n",
              "    [theme=dark] .colab-df-convert {\n",
              "      background-color: #3B4455;\n",
              "      fill: #D2E3FC;\n",
              "    }\n",
              "\n",
              "    [theme=dark] .colab-df-convert:hover {\n",
              "      background-color: #434B5C;\n",
              "      box-shadow: 0px 1px 3px 1px rgba(0, 0, 0, 0.15);\n",
              "      filter: drop-shadow(0px 1px 2px rgba(0, 0, 0, 0.3));\n",
              "      fill: #FFFFFF;\n",
              "    }\n",
              "  </style>\n",
              "\n",
              "      <script>\n",
              "        const buttonEl =\n",
              "          document.querySelector('#df-9b45e0d6-a02d-45f7-a66e-03d2276cb25b button.colab-df-convert');\n",
              "        buttonEl.style.display =\n",
              "          google.colab.kernel.accessAllowed ? 'block' : 'none';\n",
              "\n",
              "        async function convertToInteractive(key) {\n",
              "          const element = document.querySelector('#df-9b45e0d6-a02d-45f7-a66e-03d2276cb25b');\n",
              "          const dataTable =\n",
              "            await google.colab.kernel.invokeFunction('convertToInteractive',\n",
              "                                                     [key], {});\n",
              "          if (!dataTable) return;\n",
              "\n",
              "          const docLinkHtml = 'Like what you see? Visit the ' +\n",
              "            '<a target=\"_blank\" href=https://colab.research.google.com/notebooks/data_table.ipynb>data table notebook</a>'\n",
              "            + ' to learn more about interactive tables.';\n",
              "          element.innerHTML = '';\n",
              "          dataTable['output_type'] = 'display_data';\n",
              "          await google.colab.output.renderOutput(dataTable, element);\n",
              "          const docLink = document.createElement('div');\n",
              "          docLink.innerHTML = docLinkHtml;\n",
              "          element.appendChild(docLink);\n",
              "        }\n",
              "      </script>\n",
              "    </div>\n",
              "  </div>\n",
              "  "
            ]
          },
          "metadata": {},
          "execution_count": 184
        }
      ]
    },
    {
      "cell_type": "code",
      "source": [
        "sns.relplot(x='date', y='casos', data=teste, kind = 'line');"
      ],
      "metadata": {
        "colab": {
          "base_uri": "https://localhost:8080/",
          "height": 369
        },
        "id": "Cw4y5MzIU-3h",
        "outputId": "54303e75-8cbe-49f6-f036-30af5c752d39"
      },
      "execution_count": 141,
      "outputs": [
        {
          "output_type": "display_data",
          "data": {
            "text/plain": [
              "<Figure size 360x360 with 1 Axes>"
            ],
            "image/png": "[encoded data removed]"
          },
          "metadata": {
            "needs_background": "light"
          }
        }
      ]
    },
    {
      "cell_type": "code",
      "source": [
        "sns.relplot(x='epi_week', y='newDeaths', data =df_MA, kind = 'line');"
      ],
      "metadata": {
        "colab": {
          "base_uri": "https://localhost:8080/",
          "height": 370
        },
        "id": "WjMQNmyNLoEc",
        "outputId": "99d9969b-9613-46f5-ac7e-b0d70a565633"
      },
      "execution_count": 20,
      "outputs": [
        {
          "output_type": "display_data",
          "data": {
            "text/plain": [
              "<Figure size 360x360 with 1 Axes>"
            ],
            "image/png": "[encoded data removed]"
          },
          "metadata": {
            "needs_background": "light"
          }
        }
      ]
    },
    {
      "cell_type": "code",
      "source": [
        "df_MA.plot(x='date', y='deaths');"
      ],
      "metadata": {
        "colab": {
          "base_uri": "https://localhost:8080/",
          "height": 291
        },
        "id": "pZIAEJ9DM4uL",
        "outputId": "9684a2c1-6ae2-4a68-8078-ac8894f0b64c"
      },
      "execution_count": 26,
      "outputs": [
        {
          "output_type": "display_data",
          "data": {
            "text/plain": [
              "<Figure size 432x288 with 1 Axes>"
            ],
            "image/png": "[encoded data removed]"
          },
          "metadata": {
            "needs_background": "light"
          }
        }
      ]
    }
  ]
}