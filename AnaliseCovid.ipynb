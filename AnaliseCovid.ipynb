{
  "nbformat": 4,
  "nbformat_minor": 0,
  "metadata": {
    "colab": {
      "name": "AnaliseCovid.ipynb",
      "provenance": [],
      "include_colab_link": true
    },
    "kernelspec": {
      "name": "python3",
      "display_name": "Python 3"
    },
    "language_info": {
      "name": "python"
    }
  },
  "cells": [
    {
      "cell_type": "markdown",
      "metadata": {
        "id": "view-in-github",
        "colab_type": "text"
      },
      "source": [
        "<a href=\"https://colab.research.google.com/github/jamescp/python/blob/main/AnaliseCovid.ipynb\" target=\"_parent\"><img src=\"https://colab.research.google.com/assets/colab-badge.svg\" alt=\"Open In Colab\"/></a>"
      ]
    },
    {
      "cell_type": "markdown",
      "source": [
        "## **Análise dos dados da pandemia de Covid-19 no Maranhão durante os anos de 2020 a 2022.**"
      ],
      "metadata": {
        "id": "19IS9P8eJ-VC"
      }
    },
    {
      "cell_type": "markdown",
      "source": [
        "Autor: Jamesson Amaral Gomes\n",
        "> email: jamesson.agomes@gmail.com\n"
      ],
      "metadata": {
        "id": "p5WmIgZSK6Zz"
      }
    },
    {
      "cell_type": "code",
      "execution_count": 1,
      "metadata": {
        "id": "e9tb9VRAJqFw"
      },
      "outputs": [],
      "source": [
        "import numpy as np\n",
        "import pandas as pd\n",
        "import seaborn as sns\n",
        "import datetime as dt\n",
        "import matplotlib.pyplot as plt # plotting data\n"
      ]
    },
    {
      "cell_type": "code",
      "source": [
        "df = pd.read_csv(\"https://raw.githubusercontent.com/wcota/covid19br/master/cases-brazil-states.csv\")"
      ],
      "metadata": {
        "id": "un9C6KQrJOwd"
      },
      "execution_count": 94,
      "outputs": []
    },
    {
      "cell_type": "code",
      "source": [
        "#Transformação tipo da colunda data:\n",
        "df['date'] = pd.to_datetime(df['date'])\n",
        "\n",
        "#Seleciona somente o estado do Maranhão\n",
        "dadosMA= df[df.state == \"MA\"]\n"
      ],
      "metadata": {
        "id": "cIkz5C4mEMaM"
      },
      "execution_count": 98,
      "outputs": []
    },
    {
      "cell_type": "markdown",
      "source": [
        "Casos e Óbitos atualizados do Maranhão."
      ],
      "metadata": {
        "id": "MViFlFPcFH5b"
      }
    },
    {
      "cell_type": "code",
      "source": [
        "#Visualização do conjunto de dos dados \n",
        "dadosMA\n"
      ],
      "metadata": {
        "colab": {
          "base_uri": "https://localhost:8080/",
          "height": 661
        },
        "id": "GWOeI_2JI4A1",
        "outputId": "da9098e3-42cf-4b2b-e482-d54859d73949"
      },
      "execution_count": 101,
      "outputs": [
        {
          "output_type": "execute_result",
          "data": {
            "text/plain": [
              "       epi_week       date country state   city  newDeaths  deaths  newCases  \\\n",
              "220          12 2020-03-20  Brazil    MA  TOTAL          0       0         1   \n",
              "247          12 2020-03-21  Brazil    MA  TOTAL          0       0         1   \n",
              "275          13 2020-03-22  Brazil    MA  TOTAL          0       0         0   \n",
              "303          13 2020-03-23  Brazil    MA  TOTAL          0       0         6   \n",
              "331          13 2020-03-24  Brazil    MA  TOTAL          0       0         0   \n",
              "...         ...        ...     ...   ...    ...        ...     ...       ...   \n",
              "23879       228 2022-07-13  Brazil    MA  TOTAL          1   10909       878   \n",
              "23907       228 2022-07-14  Brazil    MA  TOTAL          4   10913      1055   \n",
              "23935       228 2022-07-15  Brazil    MA  TOTAL          4   10917       853   \n",
              "23963       228 2022-07-16  Brazil    MA  TOTAL          0   10917         0   \n",
              "23991       229 2022-07-17  Brazil    MA  TOTAL          0   10917         0   \n",
              "\n",
              "       totalCases  deathsMS  ...  vaccinated  vaccinated_per_100_inhabitants  \\\n",
              "220             1         0  ...         NaN                             NaN   \n",
              "247             2         0  ...         NaN                             NaN   \n",
              "275             2         0  ...         NaN                             NaN   \n",
              "303             8         0  ...         NaN                             NaN   \n",
              "331             8         0  ...         NaN                             NaN   \n",
              "...           ...       ...  ...         ...                             ...   \n",
              "23879      449460     10909  ...   5622927.0                        79.47397   \n",
              "23907      450515     10913  ...   5624375.0                        79.49443   \n",
              "23935      451368     10917  ...   5625522.0                        79.51064   \n",
              "23963      451368     10917  ...   5625522.0                        79.51064   \n",
              "23991      451368     10917  ...   5625522.0                        79.51064   \n",
              "\n",
              "       vaccinated_second  vaccinated_second_per_100_inhabitants  \\\n",
              "220                  NaN                                    NaN   \n",
              "247                  NaN                                    NaN   \n",
              "275                  NaN                                    NaN   \n",
              "303                  NaN                                    NaN   \n",
              "331                  NaN                                    NaN   \n",
              "...                  ...                                    ...   \n",
              "23879          4485591.0                               63.39896   \n",
              "23907          4486191.0                               63.40744   \n",
              "23935          4487745.0                               63.42940   \n",
              "23963          4487745.0                               63.42940   \n",
              "23991          4487745.0                               63.42940   \n",
              "\n",
              "       vaccinated_single  vaccinated_single_per_100_inhabitants  \\\n",
              "220                  NaN                                    NaN   \n",
              "247                  NaN                                    NaN   \n",
              "275                  NaN                                    NaN   \n",
              "303                  NaN                                    NaN   \n",
              "331                  NaN                                    NaN   \n",
              "...                  ...                                    ...   \n",
              "23879           125299.0                                1.77097   \n",
              "23907           125299.0                                1.77097   \n",
              "23935           125299.0                                1.77097   \n",
              "23963           125299.0                                1.77097   \n",
              "23991           125299.0                                1.77097   \n",
              "\n",
              "       vaccinated_third  vaccinated_third_per_100_inhabitants  mes   ano  \n",
              "220                 NaN                                   NaN  Mar  2020  \n",
              "247                 NaN                                   NaN  Mar  2020  \n",
              "275                 NaN                                   NaN  Mar  2020  \n",
              "303                 NaN                                   NaN  Mar  2020  \n",
              "331                 NaN                                   NaN  Mar  2020  \n",
              "...                 ...                                   ...  ...   ...  \n",
              "23879         1999049.0                              28.25439  Jul  2022  \n",
              "23907         2039279.0                              28.82299  Jul  2022  \n",
              "23935         2039279.0                              28.82299  Jul  2022  \n",
              "23963         2039279.0                              28.82299  Jul  2022  \n",
              "23991         2039279.0                              28.82299  Jul  2022  \n",
              "\n",
              "[850 rows x 28 columns]"
            ],
            "text/html": [
              "\n",
              "  <div id=\"df-b2e0ec20-042f-4688-958e-d349da5aee1d\">\n",
              "    <div class=\"colab-df-container\">\n",
              "      <div>\n",
              "<style scoped>\n",
              "    .dataframe tbody tr th:only-of-type {\n",
              "        vertical-align: middle;\n",
              "    }\n",
              "\n",
              "    .dataframe tbody tr th {\n",
              "        vertical-align: top;\n",
              "    }\n",
              "\n",
              "    .dataframe thead th {\n",
              "        text-align: right;\n",
              "    }\n",
              "</style>\n",
              "<table border=\"1\" class=\"dataframe\">\n",
              "  <thead>\n",
              "    <tr style=\"text-align: right;\">\n",
              "      <th></th>\n",
              "      <th>epi_week</th>\n",
              "      <th>date</th>\n",
              "      <th>country</th>\n",
              "      <th>state</th>\n",
              "      <th>city</th>\n",
              "      <th>newDeaths</th>\n",
              "      <th>deaths</th>\n",
              "      <th>newCases</th>\n",
              "      <th>totalCases</th>\n",
              "      <th>deathsMS</th>\n",
              "      <th>...</th>\n",
              "      <th>vaccinated</th>\n",
              "      <th>vaccinated_per_100_inhabitants</th>\n",
              "      <th>vaccinated_second</th>\n",
              "      <th>vaccinated_second_per_100_inhabitants</th>\n",
              "      <th>vaccinated_single</th>\n",
              "      <th>vaccinated_single_per_100_inhabitants</th>\n",
              "      <th>vaccinated_third</th>\n",
              "      <th>vaccinated_third_per_100_inhabitants</th>\n",
              "      <th>mes</th>\n",
              "      <th>ano</th>\n",
              "    </tr>\n",
              "  </thead>\n",
              "  <tbody>\n",
              "    <tr>\n",
              "      <th>220</th>\n",
              "      <td>12</td>\n",
              "      <td>2020-03-20</td>\n",
              "      <td>Brazil</td>\n",
              "      <td>MA</td>\n",
              "      <td>TOTAL</td>\n",
              "      <td>0</td>\n",
              "      <td>0</td>\n",
              "      <td>1</td>\n",
              "      <td>1</td>\n",
              "      <td>0</td>\n",
              "      <td>...</td>\n",
              "      <td>NaN</td>\n",
              "      <td>NaN</td>\n",
              "      <td>NaN</td>\n",
              "      <td>NaN</td>\n",
              "      <td>NaN</td>\n",
              "      <td>NaN</td>\n",
              "      <td>NaN</td>\n",
              "      <td>NaN</td>\n",
              "      <td>Mar</td>\n",
              "      <td>2020</td>\n",
              "    </tr>\n",
              "    <tr>\n",
              "      <th>247</th>\n",
              "      <td>12</td>\n",
              "      <td>2020-03-21</td>\n",
              "      <td>Brazil</td>\n",
              "      <td>MA</td>\n",
              "      <td>TOTAL</td>\n",
              "      <td>0</td>\n",
              "      <td>0</td>\n",
              "      <td>1</td>\n",
              "      <td>2</td>\n",
              "      <td>0</td>\n",
              "      <td>...</td>\n",
              "      <td>NaN</td>\n",
              "      <td>NaN</td>\n",
              "      <td>NaN</td>\n",
              "      <td>NaN</td>\n",
              "      <td>NaN</td>\n",
              "      <td>NaN</td>\n",
              "      <td>NaN</td>\n",
              "      <td>NaN</td>\n",
              "      <td>Mar</td>\n",
              "      <td>2020</td>\n",
              "    </tr>\n",
              "    <tr>\n",
              "      <th>275</th>\n",
              "      <td>13</td>\n",
              "      <td>2020-03-22</td>\n",
              "      <td>Brazil</td>\n",
              "      <td>MA</td>\n",
              "      <td>TOTAL</td>\n",
              "      <td>0</td>\n",
              "      <td>0</td>\n",
              "      <td>0</td>\n",
              "      <td>2</td>\n",
              "      <td>0</td>\n",
              "      <td>...</td>\n",
              "      <td>NaN</td>\n",
              "      <td>NaN</td>\n",
              "      <td>NaN</td>\n",
              "      <td>NaN</td>\n",
              "      <td>NaN</td>\n",
              "      <td>NaN</td>\n",
              "      <td>NaN</td>\n",
              "      <td>NaN</td>\n",
              "      <td>Mar</td>\n",
              "      <td>2020</td>\n",
              "    </tr>\n",
              "    <tr>\n",
              "      <th>303</th>\n",
              "      <td>13</td>\n",
              "      <td>2020-03-23</td>\n",
              "      <td>Brazil</td>\n",
              "      <td>MA</td>\n",
              "      <td>TOTAL</td>\n",
              "      <td>0</td>\n",
              "      <td>0</td>\n",
              "      <td>6</td>\n",
              "      <td>8</td>\n",
              "      <td>0</td>\n",
              "      <td>...</td>\n",
              "      <td>NaN</td>\n",
              "      <td>NaN</td>\n",
              "      <td>NaN</td>\n",
              "      <td>NaN</td>\n",
              "      <td>NaN</td>\n",
              "      <td>NaN</td>\n",
              "      <td>NaN</td>\n",
              "      <td>NaN</td>\n",
              "      <td>Mar</td>\n",
              "      <td>2020</td>\n",
              "    </tr>\n",
              "    <tr>\n",
              "      <th>331</th>\n",
              "      <td>13</td>\n",
              "      <td>2020-03-24</td>\n",
              "      <td>Brazil</td>\n",
              "      <td>MA</td>\n",
              "      <td>TOTAL</td>\n",
              "      <td>0</td>\n",
              "      <td>0</td>\n",
              "      <td>0</td>\n",
              "      <td>8</td>\n",
              "      <td>0</td>\n",
              "      <td>...</td>\n",
              "      <td>NaN</td>\n",
              "      <td>NaN</td>\n",
              "      <td>NaN</td>\n",
              "      <td>NaN</td>\n",
              "      <td>NaN</td>\n",
              "      <td>NaN</td>\n",
              "      <td>NaN</td>\n",
              "      <td>NaN</td>\n",
              "      <td>Mar</td>\n",
              "      <td>2020</td>\n",
              "    </tr>\n",
              "    <tr>\n",
              "      <th>...</th>\n",
              "      <td>...</td>\n",
              "      <td>...</td>\n",
              "      <td>...</td>\n",
              "      <td>...</td>\n",
              "      <td>...</td>\n",
              "      <td>...</td>\n",
              "      <td>...</td>\n",
              "      <td>...</td>\n",
              "      <td>...</td>\n",
              "      <td>...</td>\n",
              "      <td>...</td>\n",
              "      <td>...</td>\n",
              "      <td>...</td>\n",
              "      <td>...</td>\n",
              "      <td>...</td>\n",
              "      <td>...</td>\n",
              "      <td>...</td>\n",
              "      <td>...</td>\n",
              "      <td>...</td>\n",
              "      <td>...</td>\n",
              "      <td>...</td>\n",
              "    </tr>\n",
              "    <tr>\n",
              "      <th>23879</th>\n",
              "      <td>228</td>\n",
              "      <td>2022-07-13</td>\n",
              "      <td>Brazil</td>\n",
              "      <td>MA</td>\n",
              "      <td>TOTAL</td>\n",
              "      <td>1</td>\n",
              "      <td>10909</td>\n",
              "      <td>878</td>\n",
              "      <td>449460</td>\n",
              "      <td>10909</td>\n",
              "      <td>...</td>\n",
              "      <td>5622927.0</td>\n",
              "      <td>79.47397</td>\n",
              "      <td>4485591.0</td>\n",
              "      <td>63.39896</td>\n",
              "      <td>125299.0</td>\n",
              "      <td>1.77097</td>\n",
              "      <td>1999049.0</td>\n",
              "      <td>28.25439</td>\n",
              "      <td>Jul</td>\n",
              "      <td>2022</td>\n",
              "    </tr>\n",
              "    <tr>\n",
              "      <th>23907</th>\n",
              "      <td>228</td>\n",
              "      <td>2022-07-14</td>\n",
              "      <td>Brazil</td>\n",
              "      <td>MA</td>\n",
              "      <td>TOTAL</td>\n",
              "      <td>4</td>\n",
              "      <td>10913</td>\n",
              "      <td>1055</td>\n",
              "      <td>450515</td>\n",
              "      <td>10913</td>\n",
              "      <td>...</td>\n",
              "      <td>5624375.0</td>\n",
              "      <td>79.49443</td>\n",
              "      <td>4486191.0</td>\n",
              "      <td>63.40744</td>\n",
              "      <td>125299.0</td>\n",
              "      <td>1.77097</td>\n",
              "      <td>2039279.0</td>\n",
              "      <td>28.82299</td>\n",
              "      <td>Jul</td>\n",
              "      <td>2022</td>\n",
              "    </tr>\n",
              "    <tr>\n",
              "      <th>23935</th>\n",
              "      <td>228</td>\n",
              "      <td>2022-07-15</td>\n",
              "      <td>Brazil</td>\n",
              "      <td>MA</td>\n",
              "      <td>TOTAL</td>\n",
              "      <td>4</td>\n",
              "      <td>10917</td>\n",
              "      <td>853</td>\n",
              "      <td>451368</td>\n",
              "      <td>10917</td>\n",
              "      <td>...</td>\n",
              "      <td>5625522.0</td>\n",
              "      <td>79.51064</td>\n",
              "      <td>4487745.0</td>\n",
              "      <td>63.42940</td>\n",
              "      <td>125299.0</td>\n",
              "      <td>1.77097</td>\n",
              "      <td>2039279.0</td>\n",
              "      <td>28.82299</td>\n",
              "      <td>Jul</td>\n",
              "      <td>2022</td>\n",
              "    </tr>\n",
              "    <tr>\n",
              "      <th>23963</th>\n",
              "      <td>228</td>\n",
              "      <td>2022-07-16</td>\n",
              "      <td>Brazil</td>\n",
              "      <td>MA</td>\n",
              "      <td>TOTAL</td>\n",
              "      <td>0</td>\n",
              "      <td>10917</td>\n",
              "      <td>0</td>\n",
              "      <td>451368</td>\n",
              "      <td>10917</td>\n",
              "      <td>...</td>\n",
              "      <td>5625522.0</td>\n",
              "      <td>79.51064</td>\n",
              "      <td>4487745.0</td>\n",
              "      <td>63.42940</td>\n",
              "      <td>125299.0</td>\n",
              "      <td>1.77097</td>\n",
              "      <td>2039279.0</td>\n",
              "      <td>28.82299</td>\n",
              "      <td>Jul</td>\n",
              "      <td>2022</td>\n",
              "    </tr>\n",
              "    <tr>\n",
              "      <th>23991</th>\n",
              "      <td>229</td>\n",
              "      <td>2022-07-17</td>\n",
              "      <td>Brazil</td>\n",
              "      <td>MA</td>\n",
              "      <td>TOTAL</td>\n",
              "      <td>0</td>\n",
              "      <td>10917</td>\n",
              "      <td>0</td>\n",
              "      <td>451368</td>\n",
              "      <td>10917</td>\n",
              "      <td>...</td>\n",
              "      <td>5625522.0</td>\n",
              "      <td>79.51064</td>\n",
              "      <td>4487745.0</td>\n",
              "      <td>63.42940</td>\n",
              "      <td>125299.0</td>\n",
              "      <td>1.77097</td>\n",
              "      <td>2039279.0</td>\n",
              "      <td>28.82299</td>\n",
              "      <td>Jul</td>\n",
              "      <td>2022</td>\n",
              "    </tr>\n",
              "  </tbody>\n",
              "</table>\n",
              "<p>850 rows × 28 columns</p>\n",
              "</div>\n",
              "      <button class=\"colab-df-convert\" onclick=\"convertToInteractive('df-b2e0ec20-042f-4688-958e-d349da5aee1d')\"\n",
              "              title=\"Convert this dataframe to an interactive table.\"\n",
              "              style=\"display:none;\">\n",
              "        \n",
              "  <svg xmlns=\"http://www.w3.org/2000/svg\" height=\"24px\"viewBox=\"0 0 24 24\"\n",
              "       width=\"24px\">\n",
              "    <path d=\"M0 0h24v24H0V0z\" fill=\"none\"/>\n",
              "    <path d=\"M18.56 5.44l.94 2.06.94-2.06 2.06-.94-2.06-.94-.94-2.06-.94 2.06-2.06.94zm-11 1L8.5 8.5l.94-2.06 2.06-.94-2.06-.94L8.5 2.5l-.94 2.06-2.06.94zm10 10l.94 2.06.94-2.06 2.06-.94-2.06-.94-.94-2.06-.94 2.06-2.06.94z\"/><path d=\"M17.41 7.96l-1.37-1.37c-.4-.4-.92-.59-1.43-.59-.52 0-1.04.2-1.43.59L10.3 9.45l-7.72 7.72c-.78.78-.78 2.05 0 2.83L4 21.41c.39.39.9.59 1.41.59.51 0 1.02-.2 1.41-.59l7.78-7.78 2.81-2.81c.8-.78.8-2.07 0-2.86zM5.41 20L4 18.59l7.72-7.72 1.47 1.35L5.41 20z\"/>\n",
              "  </svg>\n",
              "      </button>\n",
              "      \n",
              "  <style>\n",
              "    .colab-df-container {\n",
              "      display:flex;\n",
              "      flex-wrap:wrap;\n",
              "      gap: 12px;\n",
              "    }\n",
              "\n",
              "    .colab-df-convert {\n",
              "      background-color: #E8F0FE;\n",
              "      border: none;\n",
              "      border-radius: 50%;\n",
              "      cursor: pointer;\n",
              "      display: none;\n",
              "      fill: #1967D2;\n",
              "      height: 32px;\n",
              "      padding: 0 0 0 0;\n",
              "      width: 32px;\n",
              "    }\n",
              "\n",
              "    .colab-df-convert:hover {\n",
              "      background-color: #E2EBFA;\n",
              "      box-shadow: 0px 1px 2px rgba(60, 64, 67, 0.3), 0px 1px 3px 1px rgba(60, 64, 67, 0.15);\n",
              "      fill: #174EA6;\n",
              "    }\n",
              "\n",
              "    [theme=dark] .colab-df-convert {\n",
              "      background-color: #3B4455;\n",
              "      fill: #D2E3FC;\n",
              "    }\n",
              "\n",
              "    [theme=dark] .colab-df-convert:hover {\n",
              "      background-color: #434B5C;\n",
              "      box-shadow: 0px 1px 3px 1px rgba(0, 0, 0, 0.15);\n",
              "      filter: drop-shadow(0px 1px 2px rgba(0, 0, 0, 0.3));\n",
              "      fill: #FFFFFF;\n",
              "    }\n",
              "  </style>\n",
              "\n",
              "      <script>\n",
              "        const buttonEl =\n",
              "          document.querySelector('#df-b2e0ec20-042f-4688-958e-d349da5aee1d button.colab-df-convert');\n",
              "        buttonEl.style.display =\n",
              "          google.colab.kernel.accessAllowed ? 'block' : 'none';\n",
              "\n",
              "        async function convertToInteractive(key) {\n",
              "          const element = document.querySelector('#df-b2e0ec20-042f-4688-958e-d349da5aee1d');\n",
              "          const dataTable =\n",
              "            await google.colab.kernel.invokeFunction('convertToInteractive',\n",
              "                                                     [key], {});\n",
              "          if (!dataTable) return;\n",
              "\n",
              "          const docLinkHtml = 'Like what you see? Visit the ' +\n",
              "            '<a target=\"_blank\" href=https://colab.research.google.com/notebooks/data_table.ipynb>data table notebook</a>'\n",
              "            + ' to learn more about interactive tables.';\n",
              "          element.innerHTML = '';\n",
              "          dataTable['output_type'] = 'display_data';\n",
              "          await google.colab.output.renderOutput(dataTable, element);\n",
              "          const docLink = document.createElement('div');\n",
              "          docLink.innerHTML = docLinkHtml;\n",
              "          element.appendChild(docLink);\n",
              "        }\n",
              "      </script>\n",
              "    </div>\n",
              "  </div>\n",
              "  "
            ]
          },
          "metadata": {},
          "execution_count": 101
        }
      ]
    },
    {
      "cell_type": "code",
      "source": [
        "#Imprime dados atualizados dos Casos e Óbitos acumulados desde o início da pandemia no Maranhão.\n",
        "print(\"DATA:\",dt.date.today())\n",
        "print('CASOS MA:', dadosMA['newCases'].sum(),'\\nÓBITOS MA:',dadosMA['newDeaths'].sum())\n"
      ],
      "metadata": {
        "colab": {
          "base_uri": "https://localhost:8080/"
        },
        "id": "rz1bFPRHEqHz",
        "outputId": "09cb458d-8055-4ca2-8faa-45cf10c51be1"
      },
      "execution_count": 20,
      "outputs": [
        {
          "output_type": "stream",
          "name": "stdout",
          "text": [
            "DATA: 2022-07-19\n",
            "CASOS MA: 451368 \n",
            "ÓBITOS MA: 10917\n"
          ]
        }
      ]
    },
    {
      "cell_type": "code",
      "source": [
        "#CasosMes = pd.DataFrame(df_MA.groupby(df_MA['date'].dt.strftime('%b/%Y'))['newCases'].sum().sort_values(ascending=True))\n",
        "def aux (x):\n",
        "  return(x.dt.strftime('%b'))\n"
      ],
      "metadata": {
        "id": "oHk-AUh2P-Jk"
      },
      "execution_count": 62,
      "outputs": []
    },
    {
      "cell_type": "code",
      "source": [
        "#Cria as colunas  mes e ano\n",
        "dadosMA['mes'] = dadosMA['date'].dt.strftime('%b')\n",
        "dadosMA['ano'] = dadosMA['date'].dt.strftime('%Y')\n",
        "\n"
      ],
      "metadata": {
        "colab": {
          "base_uri": "https://localhost:8080/"
        },
        "id": "FeJ6tK1gvrS8",
        "outputId": "b1c6d4cd-808b-4079-9e96-3ede68e03d50"
      },
      "execution_count": 100,
      "outputs": [
        {
          "output_type": "stream",
          "name": "stderr",
          "text": [
            "/usr/local/lib/python3.7/dist-packages/ipykernel_launcher.py:2: SettingWithCopyWarning: \n",
            "A value is trying to be set on a copy of a slice from a DataFrame.\n",
            "Try using .loc[row_indexer,col_indexer] = value instead\n",
            "\n",
            "See the caveats in the documentation: https://pandas.pydata.org/pandas-docs/stable/user_guide/indexing.html#returning-a-view-versus-a-copy\n",
            "  \n",
            "/usr/local/lib/python3.7/dist-packages/ipykernel_launcher.py:3: SettingWithCopyWarning: \n",
            "A value is trying to be set on a copy of a slice from a DataFrame.\n",
            "Try using .loc[row_indexer,col_indexer] = value instead\n",
            "\n",
            "See the caveats in the documentation: https://pandas.pydata.org/pandas-docs/stable/user_guide/indexing.html#returning-a-view-versus-a-copy\n",
            "  This is separate from the ipykernel package so we can avoid doing imports until\n"
          ]
        }
      ]
    },
    {
      "cell_type": "code",
      "source": [
        "\n",
        "\n",
        "teste = dadosMA.groupby(['ano', 'mes']).agg(\n",
        "    casos = (\"newCases\", \"sum\"),\n",
        "    obitos = (\"newDeaths\", \"sum\")\n",
        ")\n",
        "                         \n",
        "teste"
      ],
      "metadata": {
        "colab": {
          "base_uri": "https://localhost:8080/",
          "height": 990
        },
        "outputId": "bb58ca59-9cec-479c-94c9-5308a2a3c1f7",
        "id": "wo7S1LVXIN52"
      },
      "execution_count": 105,
      "outputs": [
        {
          "output_type": "execute_result",
          "data": {
            "text/plain": [
              "          casos  obitos\n",
              "ano  mes               \n",
              "2020 Apr   3455     203\n",
              "     Aug  30954     433\n",
              "     Dec   7768     204\n",
              "     Jul  40210     965\n",
              "     Jun  45154    1072\n",
              "     Mar     51       1\n",
              "     May  31791     772\n",
              "     Nov   7343     243\n",
              "     Oct  12263     297\n",
              "     Sep  21949     310\n",
              "2021 Apr  24509    1206\n",
              "     Aug  11948     395\n",
              "     Dec   5597      83\n",
              "     Feb  11819     355\n",
              "     Jan   6550     197\n",
              "     Jul  19670     593\n",
              "     Jun  27147     903\n",
              "     Mar  23094    1018\n",
              "     May  23389     864\n",
              "     Nov   3971      57\n",
              "     Oct   4841      63\n",
              "     Sep   7172     143\n",
              "2022 Apr   6995      11\n",
              "     Feb  26309     302\n",
              "     Jan  15922     111\n",
              "     Jul   8127      21\n",
              "     Jun   5175       7\n",
              "     Mar  12711      82\n",
              "     May   5484       6"
            ],
            "text/html": [
              "\n",
              "  <div id=\"df-cfbd4bc0-658b-403d-91a4-28b63ac6f549\">\n",
              "    <div class=\"colab-df-container\">\n",
              "      <div>\n",
              "<style scoped>\n",
              "    .dataframe tbody tr th:only-of-type {\n",
              "        vertical-align: middle;\n",
              "    }\n",
              "\n",
              "    .dataframe tbody tr th {\n",
              "        vertical-align: top;\n",
              "    }\n",
              "\n",
              "    .dataframe thead th {\n",
              "        text-align: right;\n",
              "    }\n",
              "</style>\n",
              "<table border=\"1\" class=\"dataframe\">\n",
              "  <thead>\n",
              "    <tr style=\"text-align: right;\">\n",
              "      <th></th>\n",
              "      <th></th>\n",
              "      <th>casos</th>\n",
              "      <th>obitos</th>\n",
              "    </tr>\n",
              "    <tr>\n",
              "      <th>ano</th>\n",
              "      <th>mes</th>\n",
              "      <th></th>\n",
              "      <th></th>\n",
              "    </tr>\n",
              "  </thead>\n",
              "  <tbody>\n",
              "    <tr>\n",
              "      <th rowspan=\"10\" valign=\"top\">2020</th>\n",
              "      <th>Apr</th>\n",
              "      <td>3455</td>\n",
              "      <td>203</td>\n",
              "    </tr>\n",
              "    <tr>\n",
              "      <th>Aug</th>\n",
              "      <td>30954</td>\n",
              "      <td>433</td>\n",
              "    </tr>\n",
              "    <tr>\n",
              "      <th>Dec</th>\n",
              "      <td>7768</td>\n",
              "      <td>204</td>\n",
              "    </tr>\n",
              "    <tr>\n",
              "      <th>Jul</th>\n",
              "      <td>40210</td>\n",
              "      <td>965</td>\n",
              "    </tr>\n",
              "    <tr>\n",
              "      <th>Jun</th>\n",
              "      <td>45154</td>\n",
              "      <td>1072</td>\n",
              "    </tr>\n",
              "    <tr>\n",
              "      <th>Mar</th>\n",
              "      <td>51</td>\n",
              "      <td>1</td>\n",
              "    </tr>\n",
              "    <tr>\n",
              "      <th>May</th>\n",
              "      <td>31791</td>\n",
              "      <td>772</td>\n",
              "    </tr>\n",
              "    <tr>\n",
              "      <th>Nov</th>\n",
              "      <td>7343</td>\n",
              "      <td>243</td>\n",
              "    </tr>\n",
              "    <tr>\n",
              "      <th>Oct</th>\n",
              "      <td>12263</td>\n",
              "      <td>297</td>\n",
              "    </tr>\n",
              "    <tr>\n",
              "      <th>Sep</th>\n",
              "      <td>21949</td>\n",
              "      <td>310</td>\n",
              "    </tr>\n",
              "    <tr>\n",
              "      <th rowspan=\"12\" valign=\"top\">2021</th>\n",
              "      <th>Apr</th>\n",
              "      <td>24509</td>\n",
              "      <td>1206</td>\n",
              "    </tr>\n",
              "    <tr>\n",
              "      <th>Aug</th>\n",
              "      <td>11948</td>\n",
              "      <td>395</td>\n",
              "    </tr>\n",
              "    <tr>\n",
              "      <th>Dec</th>\n",
              "      <td>5597</td>\n",
              "      <td>83</td>\n",
              "    </tr>\n",
              "    <tr>\n",
              "      <th>Feb</th>\n",
              "      <td>11819</td>\n",
              "      <td>355</td>\n",
              "    </tr>\n",
              "    <tr>\n",
              "      <th>Jan</th>\n",
              "      <td>6550</td>\n",
              "      <td>197</td>\n",
              "    </tr>\n",
              "    <tr>\n",
              "      <th>Jul</th>\n",
              "      <td>19670</td>\n",
              "      <td>593</td>\n",
              "    </tr>\n",
              "    <tr>\n",
              "      <th>Jun</th>\n",
              "      <td>27147</td>\n",
              "      <td>903</td>\n",
              "    </tr>\n",
              "    <tr>\n",
              "      <th>Mar</th>\n",
              "      <td>23094</td>\n",
              "      <td>1018</td>\n",
              "    </tr>\n",
              "    <tr>\n",
              "      <th>May</th>\n",
              "      <td>23389</td>\n",
              "      <td>864</td>\n",
              "    </tr>\n",
              "    <tr>\n",
              "      <th>Nov</th>\n",
              "      <td>3971</td>\n",
              "      <td>57</td>\n",
              "    </tr>\n",
              "    <tr>\n",
              "      <th>Oct</th>\n",
              "      <td>4841</td>\n",
              "      <td>63</td>\n",
              "    </tr>\n",
              "    <tr>\n",
              "      <th>Sep</th>\n",
              "      <td>7172</td>\n",
              "      <td>143</td>\n",
              "    </tr>\n",
              "    <tr>\n",
              "      <th rowspan=\"7\" valign=\"top\">2022</th>\n",
              "      <th>Apr</th>\n",
              "      <td>6995</td>\n",
              "      <td>11</td>\n",
              "    </tr>\n",
              "    <tr>\n",
              "      <th>Feb</th>\n",
              "      <td>26309</td>\n",
              "      <td>302</td>\n",
              "    </tr>\n",
              "    <tr>\n",
              "      <th>Jan</th>\n",
              "      <td>15922</td>\n",
              "      <td>111</td>\n",
              "    </tr>\n",
              "    <tr>\n",
              "      <th>Jul</th>\n",
              "      <td>8127</td>\n",
              "      <td>21</td>\n",
              "    </tr>\n",
              "    <tr>\n",
              "      <th>Jun</th>\n",
              "      <td>5175</td>\n",
              "      <td>7</td>\n",
              "    </tr>\n",
              "    <tr>\n",
              "      <th>Mar</th>\n",
              "      <td>12711</td>\n",
              "      <td>82</td>\n",
              "    </tr>\n",
              "    <tr>\n",
              "      <th>May</th>\n",
              "      <td>5484</td>\n",
              "      <td>6</td>\n",
              "    </tr>\n",
              "  </tbody>\n",
              "</table>\n",
              "</div>\n",
              "      <button class=\"colab-df-convert\" onclick=\"convertToInteractive('df-cfbd4bc0-658b-403d-91a4-28b63ac6f549')\"\n",
              "              title=\"Convert this dataframe to an interactive table.\"\n",
              "              style=\"display:none;\">\n",
              "        \n",
              "  <svg xmlns=\"http://www.w3.org/2000/svg\" height=\"24px\"viewBox=\"0 0 24 24\"\n",
              "       width=\"24px\">\n",
              "    <path d=\"M0 0h24v24H0V0z\" fill=\"none\"/>\n",
              "    <path d=\"M18.56 5.44l.94 2.06.94-2.06 2.06-.94-2.06-.94-.94-2.06-.94 2.06-2.06.94zm-11 1L8.5 8.5l.94-2.06 2.06-.94-2.06-.94L8.5 2.5l-.94 2.06-2.06.94zm10 10l.94 2.06.94-2.06 2.06-.94-2.06-.94-.94-2.06-.94 2.06-2.06.94z\"/><path d=\"M17.41 7.96l-1.37-1.37c-.4-.4-.92-.59-1.43-.59-.52 0-1.04.2-1.43.59L10.3 9.45l-7.72 7.72c-.78.78-.78 2.05 0 2.83L4 21.41c.39.39.9.59 1.41.59.51 0 1.02-.2 1.41-.59l7.78-7.78 2.81-2.81c.8-.78.8-2.07 0-2.86zM5.41 20L4 18.59l7.72-7.72 1.47 1.35L5.41 20z\"/>\n",
              "  </svg>\n",
              "      </button>\n",
              "      \n",
              "  <style>\n",
              "    .colab-df-container {\n",
              "      display:flex;\n",
              "      flex-wrap:wrap;\n",
              "      gap: 12px;\n",
              "    }\n",
              "\n",
              "    .colab-df-convert {\n",
              "      background-color: #E8F0FE;\n",
              "      border: none;\n",
              "      border-radius: 50%;\n",
              "      cursor: pointer;\n",
              "      display: none;\n",
              "      fill: #1967D2;\n",
              "      height: 32px;\n",
              "      padding: 0 0 0 0;\n",
              "      width: 32px;\n",
              "    }\n",
              "\n",
              "    .colab-df-convert:hover {\n",
              "      background-color: #E2EBFA;\n",
              "      box-shadow: 0px 1px 2px rgba(60, 64, 67, 0.3), 0px 1px 3px 1px rgba(60, 64, 67, 0.15);\n",
              "      fill: #174EA6;\n",
              "    }\n",
              "\n",
              "    [theme=dark] .colab-df-convert {\n",
              "      background-color: #3B4455;\n",
              "      fill: #D2E3FC;\n",
              "    }\n",
              "\n",
              "    [theme=dark] .colab-df-convert:hover {\n",
              "      background-color: #434B5C;\n",
              "      box-shadow: 0px 1px 3px 1px rgba(0, 0, 0, 0.15);\n",
              "      filter: drop-shadow(0px 1px 2px rgba(0, 0, 0, 0.3));\n",
              "      fill: #FFFFFF;\n",
              "    }\n",
              "  </style>\n",
              "\n",
              "      <script>\n",
              "        const buttonEl =\n",
              "          document.querySelector('#df-cfbd4bc0-658b-403d-91a4-28b63ac6f549 button.colab-df-convert');\n",
              "        buttonEl.style.display =\n",
              "          google.colab.kernel.accessAllowed ? 'block' : 'none';\n",
              "\n",
              "        async function convertToInteractive(key) {\n",
              "          const element = document.querySelector('#df-cfbd4bc0-658b-403d-91a4-28b63ac6f549');\n",
              "          const dataTable =\n",
              "            await google.colab.kernel.invokeFunction('convertToInteractive',\n",
              "                                                     [key], {});\n",
              "          if (!dataTable) return;\n",
              "\n",
              "          const docLinkHtml = 'Like what you see? Visit the ' +\n",
              "            '<a target=\"_blank\" href=https://colab.research.google.com/notebooks/data_table.ipynb>data table notebook</a>'\n",
              "            + ' to learn more about interactive tables.';\n",
              "          element.innerHTML = '';\n",
              "          dataTable['output_type'] = 'display_data';\n",
              "          await google.colab.output.renderOutput(dataTable, element);\n",
              "          const docLink = document.createElement('div');\n",
              "          docLink.innerHTML = docLinkHtml;\n",
              "          element.appendChild(docLink);\n",
              "        }\n",
              "      </script>\n",
              "    </div>\n",
              "  </div>\n",
              "  "
            ]
          },
          "metadata": {},
          "execution_count": 105
        }
      ]
    },
    {
      "cell_type": "code",
      "source": [
        "Month = ['Month',\n",
        "        \"Jan Feb Mar Apr May Jun Jul Aug Sep Oct Nov Dec\".split()]\n",
        "\n"
      ],
      "metadata": {
        "id": "GAjZW06eyCzm"
      },
      "execution_count": 157,
      "outputs": []
    },
    {
      "cell_type": "code",
      "source": [
        "meses = ['Jan', 'Feb', 'Mar', 'Apr', 'May', 'Jun', 'Jul', 'Aug', 'Sep', 'Oct', 'Nov', 'Dec']\n",
        "meses"
      ],
      "metadata": {
        "id": "NsK9e6apt6Tx",
        "outputId": "ba939c1c-2969-4a2a-a9cd-d19e8c669d58",
        "colab": {
          "base_uri": "https://localhost:8080/"
        }
      },
      "execution_count": 173,
      "outputs": [
        {
          "output_type": "execute_result",
          "data": {
            "text/plain": [
              "['Jan',\n",
              " 'Feb',\n",
              " 'Mar',\n",
              " 'Apr',\n",
              " 'May',\n",
              " 'Jun',\n",
              " 'Jul',\n",
              " 'Aug',\n",
              " 'Sep',\n",
              " 'Oct',\n",
              " 'Nov',\n",
              " 'Dec']"
            ]
          },
          "metadata": {},
          "execution_count": 173
        }
      ]
    },
    {
      "cell_type": "code",
      "source": [
        "dadosMA.plot(x='date', y='deaths');"
      ],
      "metadata": {
        "colab": {
          "base_uri": "https://localhost:8080/",
          "height": 291
        },
        "id": "pZIAEJ9DM4uL",
        "outputId": "23044cbd-7928-4e32-e66d-08b47172c642"
      },
      "execution_count": 158,
      "outputs": [
        {
          "output_type": "display_data",
          "data": {
            "text/plain": [
              "<Figure size 432x288 with 1 Axes>"
            ],
            "image/png": "[encoded data removed]"
          },
          "metadata": {
            "needs_background": "light"
          }
        }
      ]
    },
    {
      "cell_type": "code",
      "source": [
        "plt.figure(figsize=(15,5))\n",
        "sns.lineplot(x='mes',y='casos',data=teste.query(\"ano in['2020']\"),   hue='ano');\n",
        "plt.show()"
      ],
      "metadata": {
        "id": "S4EMOkdg80tI",
        "outputId": "7e1d4c84-127b-43ad-e208-c1103ff1a18c",
        "colab": {
          "base_uri": "https://localhost:8080/",
          "height": 334
        }
      },
      "execution_count": 182,
      "outputs": [
        {
          "output_type": "display_data",
          "data": {
            "text/plain": [
              "<Figure size 1080x360 with 1 Axes>"
            ],
            "image/png": "[encoded data removed]"
          },
          "metadata": {
            "needs_background": "light"
          }
        }
      ]
    },
    {
      "cell_type": "code",
      "source": [
        "\n",
        "sns.relplot(x='mes', y='casos', data=teste.query(\"ano in['2020','2021']\"), kind = 'line', hue='ano', row_order = meses);\n",
        "plt.show()"
      ],
      "metadata": {
        "colab": {
          "base_uri": "https://localhost:8080/",
          "height": 386
        },
        "id": "Cw4y5MzIU-3h",
        "outputId": "deaacfee-2661-444b-be15-3ff1b8333e4c"
      },
      "execution_count": 178,
      "outputs": [
        {
          "output_type": "display_data",
          "data": {
            "text/plain": [
              "<Figure size 2160x360 with 0 Axes>"
            ]
          },
          "metadata": {}
        },
        {
          "output_type": "display_data",
          "data": {
            "text/plain": [
              "<Figure size 421.375x360 with 1 Axes>"
            ],
            "image/png": "[encoded data removed]"
          },
          "metadata": {
            "needs_background": "light"
          }
        }
      ]
    },
    {
      "cell_type": "code",
      "source": [
        "sns.relplot(x='mes', y='obitos', data=teste.query(\"ano in['2020','2021']\"), kind = 'line', hue='ano', sort = False, col = 'ano');\n",
        "plt.xticks(rotation=45);"
      ],
      "metadata": {
        "id": "XCzXztFusVJ8",
        "outputId": "83dd7202-4376-44fe-8655-a4d33ca00d95",
        "colab": {
          "base_uri": "https://localhost:8080/",
          "height": 381
        }
      },
      "execution_count": 111,
      "outputs": [
        {
          "output_type": "display_data",
          "data": {
            "text/plain": [
              "<Figure size 781.375x360 with 2 Axes>"
            ],
            "image/png": "[encoded data removed]"
          },
          "metadata": {
            "needs_background": "light"
          }
        }
      ]
    },
    {
      "cell_type": "code",
      "source": [
        "sns.relplot(x='ano', y='obitos', data =teste, kind = 'line');"
      ],
      "metadata": {
        "colab": {
          "base_uri": "https://localhost:8080/",
          "height": 369
        },
        "id": "WjMQNmyNLoEc",
        "outputId": "462fee7d-ecb6-4841-dc65-579eb231b8b5"
      },
      "execution_count": 60,
      "outputs": [
        {
          "output_type": "display_data",
          "data": {
            "text/plain": [
              "<Figure size 360x360 with 1 Axes>"
            ],
            "image/png": "[encoded data removed]"
          },
          "metadata": {
            "needs_background": "light"
          }
        }
      ]
    }
  ]
}